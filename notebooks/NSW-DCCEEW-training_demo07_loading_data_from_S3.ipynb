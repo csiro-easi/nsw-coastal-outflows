{
 "cells": [
  {
   "cell_type": "markdown",
   "id": "243c6147-f530-4a72-8ffe-293240bf7957",
   "metadata": {},
   "source": [
    "# <u>NSW DCCEEW training – Demo 7: loading data from S3 storage</u>\n",
    "\n",
    " - <b>Author</b>: Eric.Lehmann@csiro.au &amp; Kesav.Unnithan@csiro.au\n",
    " - <b>Release date / version</b>: Aug. 2024, v1.0 &ndash; updated from notebook by Kesav U.\n",
    " - <b>Dev. platform</b>: CSIRO ADIAS/ADS (hub.adias.aquawatchaus.space)\n",
    " - <b>Server profile</b>: EASI Open Data Cube No ML &ndash; Version 2023.10.2 \n",
    " - <b>Server resources</b>: 32 CPU &ndash; 64GB RAM\n",
    " - <b>Python kernel</b>: `Python 3 (ipykernel)`\n",
    " - <b>Dask</b>: no cluster\n",
    "\n",
    "\n",
    "# Overview\n",
    "\n",
    "Demonstrates how to access pre-computed data saved to an S3 project bucket on EASI / ADIAS. \n",
    "\n",
    "This dataset represents the output from a deep-learning model used to infer water quality parameters using Landsat data."
   ]
  },
  {
   "cell_type": "code",
   "execution_count": null,
   "id": "c261aa71-ce59-4ea7-b92a-69139d4da0d0",
   "metadata": {
    "tags": []
   },
   "outputs": [],
   "source": [
    "import sys\n",
    "import xarray as xr\n",
    "from matplotlib.colors import LogNorm\n",
    "import matplotlib.pyplot as plt\n",
    "\n",
    "import numpy as np\n",
    "\n",
    "# from: https://github.com/csiro-easi/easi-notebooks.git\n",
    "sys.path.append('/home/jovyan/git_hub_notebooks/scripts/')\n",
    "import notebook_utils   # for xarray_object_size(), localcluster_dashboard()\n",
    "# from app_utils import display_map"
   ]
  },
  {
   "cell_type": "code",
   "execution_count": null,
   "id": "943742d3-48fa-46e6-a4db-e478c414bf06",
   "metadata": {
    "tags": []
   },
   "outputs": [],
   "source": [
    "### User parameters\n",
    "s3_access_path = f's3://adias-prod-dc-data-projects/nsw-outflows/DL/Clarence'   # path to S3 bucket"
   ]
  },
  {
   "cell_type": "code",
   "execution_count": null,
   "id": "41e98b93-2987-46ce-ac35-c9be8e2babe3",
   "metadata": {
    "tags": []
   },
   "outputs": [],
   "source": [
    "%%time\n",
    "\n",
    "### Load entire time series\n",
    "bb_wq_ds = xr.open_mfdataset(f\"{s3_access_path}/*\", engine='zarr', chunks={})\n",
    "bb_wq_ds"
   ]
  },
  {
   "cell_type": "code",
   "execution_count": null,
   "id": "9d31a842-c4a1-44e8-8e26-f7794e19fa9f",
   "metadata": {
    "tags": []
   },
   "outputs": [],
   "source": [
    "notebook_utils.xarray_object_size( bb_wq_ds )"
   ]
  },
  {
   "cell_type": "code",
   "execution_count": null,
   "id": "87bdcc78-8e31-4264-be13-62afcb576352",
   "metadata": {
    "tags": []
   },
   "outputs": [],
   "source": [
    "bb_wq_ds.op.values"
   ]
  },
  {
   "cell_type": "code",
   "execution_count": null,
   "id": "74e21915-e74d-4488-9b63-b550c8faefca",
   "metadata": {
    "tags": []
   },
   "outputs": [],
   "source": [
    "%%time\n",
    "\n",
    "### Extract desired WQ parameters, e.g. here TSS and DOC\n",
    "# Also subsample the data spatially to reduce computation / memory requirements\n",
    "bb_wq_ds_wq = bb_wq_ds.output_data[::6, ::6, 0:2, :].compute()\n",
    "display( notebook_utils.xarray_object_size( bb_wq_ds_wq ) )\n",
    "bb_wq_ds_wq"
   ]
  },
  {
   "cell_type": "code",
   "execution_count": null,
   "id": "ea48167a-e872-4362-9ea0-afba63b3fbde",
   "metadata": {
    "tags": []
   },
   "outputs": [],
   "source": [
    "### Convert to Xarray Dataset with WQ parameters as data variables\n",
    "bb_wq_ds1 = xr.Dataset({var: bb_wq_ds_wq.sel(op=var).drop('op') for var in bb_wq_ds_wq.op.values})\n",
    "bb_wq_ds1"
   ]
  },
  {
   "cell_type": "code",
   "execution_count": null,
   "id": "f2f5444a-38c2-4ef3-878d-701cd7468148",
   "metadata": {
    "tags": []
   },
   "outputs": [],
   "source": [
    "### Remove empty time slices\n",
    "bb_wq_ds1 = bb_wq_ds1.dropna('time', how='all')\n",
    "bb_wq_ds1"
   ]
  },
  {
   "cell_type": "code",
   "execution_count": null,
   "id": "cc288e9c-4dc1-4ef2-8423-65532e30751f",
   "metadata": {
    "tags": []
   },
   "outputs": [],
   "source": [
    "### Filter out outliers...\n",
    "percentile_10_1 = bb_wq_ds1.quantile(0.1, dim='time')\n",
    "percentile_90_1 = bb_wq_ds1.quantile(0.9, dim='time')\n",
    "bb_wq_ds1 = bb_wq_ds1.where((bb_wq_ds1 >= percentile_10_1) & (bb_wq_ds1 <= percentile_90_1))\n",
    "\n",
    "median_ds = bb_wq_ds1.median(dim='time')"
   ]
  },
  {
   "cell_type": "code",
   "execution_count": null,
   "id": "7ed818f0-36f2-4591-a75e-104f5049f414",
   "metadata": {
    "tags": []
   },
   "outputs": [],
   "source": [
    "median_ds.tss.plot.imshow(figsize=(9, 6), norm=LogNorm(), cmap='turbo')\n",
    "plt.gca().set_title('Median TSS (subsampled)');\n",
    "plt.gca().set_aspect('equal','box');"
   ]
  },
  {
   "cell_type": "code",
   "execution_count": null,
   "id": "c7c75ea6-1a43-494d-9464-ac7a3582b8c4",
   "metadata": {
    "tags": []
   },
   "outputs": [],
   "source": [
    "plt_ind = np.linspace(2, bb_wq_ds1.sizes['time'], 6, dtype='int') - 1   # some selected time slices to display\n",
    "pp = bb_wq_ds1.tss[:,:,plt_ind].plot( col='time', col_wrap=3, figsize=(14,8), norm=LogNorm(), cmap='turbo', cbar_kwargs={'label': 'TSS'} )\n",
    "\n",
    "for ii,ax in enumerate(pp.axs.flat): ax.set_aspect('equal','box')"
   ]
  },
  {
   "cell_type": "code",
   "execution_count": null,
   "id": "f84e8177-2c96-4b68-9055-f6dff6e278d5",
   "metadata": {
    "tags": []
   },
   "outputs": [],
   "source": [
    "### End notebook"
   ]
  }
 ],
 "metadata": {
  "kernelspec": {
   "display_name": "Python 3 (ipykernel)",
   "language": "python",
   "name": "python3"
  },
  "language_info": {
   "codemirror_mode": {
    "name": "ipython",
    "version": 3
   },
   "file_extension": ".py",
   "mimetype": "text/x-python",
   "name": "python",
   "nbconvert_exporter": "python",
   "pygments_lexer": "ipython3",
   "version": "3.10.12"
  }
 },
 "nbformat": 4,
 "nbformat_minor": 5
}
